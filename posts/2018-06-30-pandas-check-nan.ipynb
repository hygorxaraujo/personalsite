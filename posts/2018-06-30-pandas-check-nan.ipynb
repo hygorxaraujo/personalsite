{
 "cells": [
  {
   "cell_type": "raw",
   "source": [
    "---\n",
    "author: \"Hygor X. Araújo\"\n",
    "badges: false\n",
    "branch: master\n",
    "categories:\n",
    "- python\n",
    "- pandas\n",
    "- numpy\n",
    "date: '2018-06-30'\n",
    "title: How to check missing values in pandas\n",
    "toc: true\n",
    "---"
   ],
   "metadata": {
    "collapsed": false
   }
  },
  {
   "cell_type": "markdown",
   "metadata": {},
   "source": [
    "In this article I would like to describe how to find NaN values in a pandas DataFrame. This kind of operation can be very useful given that is common to find datasets with missing or incorrect data values.\n",
    "\n",
    "I will be using the numpy package to generate some data with NaN values.<!-- TEASER_END -->"
   ]
  },
  {
   "cell_type": "markdown",
   "metadata": {},
   "source": [
    "#### Import necessary packages"
   ]
  },
  {
   "cell_type": "code",
   "execution_count": 1,
   "metadata": {
    "ExecuteTime": {
     "end_time": "2018-07-10T09:46:54.528810Z",
     "start_time": "2018-07-10T09:46:54.129573Z"
    }
   },
   "outputs": [],
   "source": [
    "import pandas as pd\n",
    "import numpy as np\n",
    "import platform"
   ]
  },
  {
   "cell_type": "code",
   "execution_count": 2,
   "metadata": {
    "ExecuteTime": {
     "end_time": "2018-07-10T09:46:54.538875Z",
     "start_time": "2018-07-10T09:46:54.532389Z"
    }
   },
   "outputs": [
    {
     "name": "stdout",
     "output_type": "stream",
     "text": [
      "Python version: 3.10.7 (CPython)\n",
      "Pandas version: 1.5.1\n",
      "Numpy version: 1.23.4\n"
     ]
    }
   ],
   "source": [
    "print(f'Python version: {platform.python_version()} ({platform.python_implementation()})')\n",
    "print(f'Pandas version: {pd.__version__}')\n",
    "print(f'Numpy version: {np.__version__}')"
   ]
  },
  {
   "cell_type": "markdown",
   "metadata": {},
   "source": [
    "### Generate data with NaN values"
   ]
  },
  {
   "cell_type": "code",
   "execution_count": 3,
   "metadata": {
    "ExecuteTime": {
     "end_time": "2018-07-10T09:46:54.710500Z",
     "start_time": "2018-07-10T09:46:54.542433Z"
    },
    "scrolled": false
   },
   "outputs": [
    {
     "name": "stdout",
     "output_type": "stream",
     "text": [
      "[[-1.56132314 -0.16954058 -0.17845422 -1.33689111 -0.19185078 -1.18617765\n",
      "   0.44499302 -0.61209568  0.31170935  1.4127548 ]\n",
      " [ 0.85330488  0.68517546 -1.10140989  0.84918019  0.72802961 -0.35161197\n",
      "   0.73519152  1.13145412  0.53231247  0.78103143]\n",
      " [-0.81614324  0.15906898  0.49940119 -0.09319255 -1.07837721 -0.76053341\n",
      "   0.73622083 -0.45518154 -0.69194032  1.02550409]\n",
      " [-1.96339975  0.07593331 -0.16798377 -1.20398958  0.88333656  1.17908422\n",
      "   0.26324698 -2.65442248 -0.31583796 -0.16065732]\n",
      " [-1.24321376 -0.89816898  0.02824671  0.15304093  0.56505667 -0.78115883\n",
      "   0.74504467  1.14025258 -0.04518221 -0.83908358]\n",
      " [ 1.00967019  0.84240102  1.15043436 -0.40120489  0.00664105 -1.23247563\n",
      "   0.64738343  1.66096762 -0.92556683  0.47575796]\n",
      " [ 0.96516278  1.11158059 -0.82155143  0.88900313  2.16943761 -2.05250161\n",
      "   2.40156233  0.92453867 -0.24437783 -2.91029265]\n",
      " [-0.86492662  0.82443151 -0.48246862 -1.05183143 -1.15272524 -0.77170733\n",
      "   0.07177233  1.02820181 -2.08947076  0.89859677]\n",
      " [-0.07263982 -0.56840867  1.30910275 -0.52846822  0.06019191 -0.61000727\n",
      "   0.40782356 -0.36124333 -1.54522486 -0.07891861]\n",
      " [-1.96361682 -1.06315325 -0.45582138 -0.74566868  1.27579529 -2.46306005\n",
      "   0.57022673 -0.02793746  0.78652775  1.27690195]]\n"
     ]
    }
   ],
   "source": [
    "num_nan = 25 # number of NaN values wanted in the generated data\n",
    "np.random.seed(6765431)  # set a seed for reproducibility\n",
    "A = np.random.randn(10, 10)\n",
    "print(A)"
   ]
  },
  {
   "cell_type": "code",
   "execution_count": 4,
   "metadata": {
    "ExecuteTime": {
     "end_time": "2018-07-10T09:46:54.822449Z",
     "start_time": "2018-07-10T09:46:54.713525Z"
    }
   },
   "outputs": [
    {
     "name": "stdout",
     "output_type": "stream",
     "text": [
      "[[-1.56132314 -0.16954058 -0.17845422 -1.33689111 -0.19185078 -1.18617765\n",
      "          nan -0.61209568  0.31170935  1.4127548 ]\n",
      " [ 0.85330488  0.68517546         nan  0.84918019         nan -0.35161197\n",
      "   0.73519152         nan  0.53231247  0.78103143]\n",
      " [-0.81614324  0.15906898  0.49940119         nan -1.07837721 -0.76053341\n",
      "   0.73622083         nan -0.69194032  1.02550409]\n",
      " [-1.96339975  0.07593331         nan -1.20398958  0.88333656         nan\n",
      "   0.26324698         nan -0.31583796 -0.16065732]\n",
      " [-1.24321376 -0.89816898  0.02824671  0.15304093  0.56505667 -0.78115883\n",
      "   0.74504467  1.14025258 -0.04518221 -0.83908358]\n",
      " [ 1.00967019  0.84240102         nan -0.40120489  0.00664105         nan\n",
      "   0.64738343  1.66096762 -0.92556683  0.47575796]\n",
      " [ 0.96516278         nan -0.82155143  0.88900313  2.16943761         nan\n",
      "   2.40156233         nan -0.24437783         nan]\n",
      " [-0.86492662  0.82443151 -0.48246862 -1.05183143 -1.15272524 -0.77170733\n",
      "   0.07177233  1.02820181 -2.08947076         nan]\n",
      " [-0.07263982         nan  1.30910275 -0.52846822  0.06019191 -0.61000727\n",
      "   0.40782356 -0.36124333         nan         nan]\n",
      " [        nan         nan         nan         nan  1.27579529 -2.46306005\n",
      "          nan         nan  0.78652775  1.27690195]]\n"
     ]
    }
   ],
   "source": [
    "# Set random values to nan\n",
    "A.ravel()[np.random.choice(A.size, num_nan, replace=False)] = np.nan\n",
    "print(A)"
   ]
  },
  {
   "cell_type": "code",
   "execution_count": 5,
   "metadata": {
    "ExecuteTime": {
     "end_time": "2018-07-10T09:46:54.956204Z",
     "start_time": "2018-07-10T09:46:54.824755Z"
    }
   },
   "outputs": [
    {
     "data": {
      "text/plain": "          0         1         2         3         4         5         6  \\\n0 -1.561323 -0.169541 -0.178454 -1.336891 -0.191851 -1.186178       NaN   \n1  0.853305  0.685175       NaN  0.849180       NaN -0.351612  0.735192   \n2 -0.816143  0.159069  0.499401       NaN -1.078377 -0.760533  0.736221   \n3 -1.963400  0.075933       NaN -1.203990  0.883337       NaN  0.263247   \n4 -1.243214 -0.898169  0.028247  0.153041  0.565057 -0.781159  0.745045   \n5  1.009670  0.842401       NaN -0.401205  0.006641       NaN  0.647383   \n6  0.965163       NaN -0.821551  0.889003  2.169438       NaN  2.401562   \n7 -0.864927  0.824432 -0.482469 -1.051831 -1.152725 -0.771707  0.071772   \n8 -0.072640       NaN  1.309103 -0.528468  0.060192 -0.610007  0.407824   \n9       NaN       NaN       NaN       NaN  1.275795 -2.463060       NaN   \n\n          7         8         9  \n0 -0.612096  0.311709  1.412755  \n1       NaN  0.532312  0.781031  \n2       NaN -0.691940  1.025504  \n3       NaN -0.315838 -0.160657  \n4  1.140253 -0.045182 -0.839084  \n5  1.660968 -0.925567  0.475758  \n6       NaN -0.244378       NaN  \n7  1.028202 -2.089471       NaN  \n8 -0.361243       NaN       NaN  \n9       NaN  0.786528  1.276902  ",
      "text/html": "<div>\n<style scoped>\n    .dataframe tbody tr th:only-of-type {\n        vertical-align: middle;\n    }\n\n    .dataframe tbody tr th {\n        vertical-align: top;\n    }\n\n    .dataframe thead th {\n        text-align: right;\n    }\n</style>\n<table border=\"1\" class=\"dataframe\">\n  <thead>\n    <tr style=\"text-align: right;\">\n      <th></th>\n      <th>0</th>\n      <th>1</th>\n      <th>2</th>\n      <th>3</th>\n      <th>4</th>\n      <th>5</th>\n      <th>6</th>\n      <th>7</th>\n      <th>8</th>\n      <th>9</th>\n    </tr>\n  </thead>\n  <tbody>\n    <tr>\n      <th>0</th>\n      <td>-1.561323</td>\n      <td>-0.169541</td>\n      <td>-0.178454</td>\n      <td>-1.336891</td>\n      <td>-0.191851</td>\n      <td>-1.186178</td>\n      <td>NaN</td>\n      <td>-0.612096</td>\n      <td>0.311709</td>\n      <td>1.412755</td>\n    </tr>\n    <tr>\n      <th>1</th>\n      <td>0.853305</td>\n      <td>0.685175</td>\n      <td>NaN</td>\n      <td>0.849180</td>\n      <td>NaN</td>\n      <td>-0.351612</td>\n      <td>0.735192</td>\n      <td>NaN</td>\n      <td>0.532312</td>\n      <td>0.781031</td>\n    </tr>\n    <tr>\n      <th>2</th>\n      <td>-0.816143</td>\n      <td>0.159069</td>\n      <td>0.499401</td>\n      <td>NaN</td>\n      <td>-1.078377</td>\n      <td>-0.760533</td>\n      <td>0.736221</td>\n      <td>NaN</td>\n      <td>-0.691940</td>\n      <td>1.025504</td>\n    </tr>\n    <tr>\n      <th>3</th>\n      <td>-1.963400</td>\n      <td>0.075933</td>\n      <td>NaN</td>\n      <td>-1.203990</td>\n      <td>0.883337</td>\n      <td>NaN</td>\n      <td>0.263247</td>\n      <td>NaN</td>\n      <td>-0.315838</td>\n      <td>-0.160657</td>\n    </tr>\n    <tr>\n      <th>4</th>\n      <td>-1.243214</td>\n      <td>-0.898169</td>\n      <td>0.028247</td>\n      <td>0.153041</td>\n      <td>0.565057</td>\n      <td>-0.781159</td>\n      <td>0.745045</td>\n      <td>1.140253</td>\n      <td>-0.045182</td>\n      <td>-0.839084</td>\n    </tr>\n    <tr>\n      <th>5</th>\n      <td>1.009670</td>\n      <td>0.842401</td>\n      <td>NaN</td>\n      <td>-0.401205</td>\n      <td>0.006641</td>\n      <td>NaN</td>\n      <td>0.647383</td>\n      <td>1.660968</td>\n      <td>-0.925567</td>\n      <td>0.475758</td>\n    </tr>\n    <tr>\n      <th>6</th>\n      <td>0.965163</td>\n      <td>NaN</td>\n      <td>-0.821551</td>\n      <td>0.889003</td>\n      <td>2.169438</td>\n      <td>NaN</td>\n      <td>2.401562</td>\n      <td>NaN</td>\n      <td>-0.244378</td>\n      <td>NaN</td>\n    </tr>\n    <tr>\n      <th>7</th>\n      <td>-0.864927</td>\n      <td>0.824432</td>\n      <td>-0.482469</td>\n      <td>-1.051831</td>\n      <td>-1.152725</td>\n      <td>-0.771707</td>\n      <td>0.071772</td>\n      <td>1.028202</td>\n      <td>-2.089471</td>\n      <td>NaN</td>\n    </tr>\n    <tr>\n      <th>8</th>\n      <td>-0.072640</td>\n      <td>NaN</td>\n      <td>1.309103</td>\n      <td>-0.528468</td>\n      <td>0.060192</td>\n      <td>-0.610007</td>\n      <td>0.407824</td>\n      <td>-0.361243</td>\n      <td>NaN</td>\n      <td>NaN</td>\n    </tr>\n    <tr>\n      <th>9</th>\n      <td>NaN</td>\n      <td>NaN</td>\n      <td>NaN</td>\n      <td>NaN</td>\n      <td>1.275795</td>\n      <td>-2.463060</td>\n      <td>NaN</td>\n      <td>NaN</td>\n      <td>0.786528</td>\n      <td>1.276902</td>\n    </tr>\n  </tbody>\n</table>\n</div>"
     },
     "execution_count": 5,
     "metadata": {},
     "output_type": "execute_result"
    }
   ],
   "source": [
    "# Create a DataFrame from the generated data\n",
    "df = pd.DataFrame(A)\n",
    "df"
   ]
  },
  {
   "cell_type": "markdown",
   "metadata": {},
   "source": [
    "### Check for NaN values"
   ]
  },
  {
   "cell_type": "markdown",
   "metadata": {
    "ExecuteTime": {
     "end_time": "2018-07-10T08:27:04.278386Z",
     "start_time": "2018-07-10T08:27:04.273932Z"
    }
   },
   "source": [
    "Now that we have some data to operate on let's see the different ways we can check for missing values."
   ]
  },
  {
   "cell_type": "markdown",
   "metadata": {},
   "source": [
    "There are two methods of the DataFrame object that can be used: `DataFrame#isna()` and `DataFrame#isnull()`. But if you check the source code it seems that `isnull()` is only an alias for the `isna()` method. To keep it simple I will only use the `isna()` method as we would get the same result using `isnull()`."
   ]
  },
  {
   "cell_type": "code",
   "execution_count": 6,
   "metadata": {
    "ExecuteTime": {
     "end_time": "2018-07-10T09:46:55.065320Z",
     "start_time": "2018-07-10T09:46:54.958256Z"
    }
   },
   "outputs": [
    {
     "data": {
      "text/plain": "       0      1      2      3      4      5      6      7      8      9\n0  False  False  False  False  False  False   True  False  False  False\n1  False  False   True  False   True  False  False   True  False  False\n2  False  False  False   True  False  False  False   True  False  False\n3  False  False   True  False  False   True  False   True  False  False\n4  False  False  False  False  False  False  False  False  False  False\n5  False  False   True  False  False   True  False  False  False  False\n6  False   True  False  False  False   True  False   True  False   True\n7  False  False  False  False  False  False  False  False  False   True\n8  False   True  False  False  False  False  False  False   True   True\n9   True   True   True   True  False  False   True   True  False  False",
      "text/html": "<div>\n<style scoped>\n    .dataframe tbody tr th:only-of-type {\n        vertical-align: middle;\n    }\n\n    .dataframe tbody tr th {\n        vertical-align: top;\n    }\n\n    .dataframe thead th {\n        text-align: right;\n    }\n</style>\n<table border=\"1\" class=\"dataframe\">\n  <thead>\n    <tr style=\"text-align: right;\">\n      <th></th>\n      <th>0</th>\n      <th>1</th>\n      <th>2</th>\n      <th>3</th>\n      <th>4</th>\n      <th>5</th>\n      <th>6</th>\n      <th>7</th>\n      <th>8</th>\n      <th>9</th>\n    </tr>\n  </thead>\n  <tbody>\n    <tr>\n      <th>0</th>\n      <td>False</td>\n      <td>False</td>\n      <td>False</td>\n      <td>False</td>\n      <td>False</td>\n      <td>False</td>\n      <td>True</td>\n      <td>False</td>\n      <td>False</td>\n      <td>False</td>\n    </tr>\n    <tr>\n      <th>1</th>\n      <td>False</td>\n      <td>False</td>\n      <td>True</td>\n      <td>False</td>\n      <td>True</td>\n      <td>False</td>\n      <td>False</td>\n      <td>True</td>\n      <td>False</td>\n      <td>False</td>\n    </tr>\n    <tr>\n      <th>2</th>\n      <td>False</td>\n      <td>False</td>\n      <td>False</td>\n      <td>True</td>\n      <td>False</td>\n      <td>False</td>\n      <td>False</td>\n      <td>True</td>\n      <td>False</td>\n      <td>False</td>\n    </tr>\n    <tr>\n      <th>3</th>\n      <td>False</td>\n      <td>False</td>\n      <td>True</td>\n      <td>False</td>\n      <td>False</td>\n      <td>True</td>\n      <td>False</td>\n      <td>True</td>\n      <td>False</td>\n      <td>False</td>\n    </tr>\n    <tr>\n      <th>4</th>\n      <td>False</td>\n      <td>False</td>\n      <td>False</td>\n      <td>False</td>\n      <td>False</td>\n      <td>False</td>\n      <td>False</td>\n      <td>False</td>\n      <td>False</td>\n      <td>False</td>\n    </tr>\n    <tr>\n      <th>5</th>\n      <td>False</td>\n      <td>False</td>\n      <td>True</td>\n      <td>False</td>\n      <td>False</td>\n      <td>True</td>\n      <td>False</td>\n      <td>False</td>\n      <td>False</td>\n      <td>False</td>\n    </tr>\n    <tr>\n      <th>6</th>\n      <td>False</td>\n      <td>True</td>\n      <td>False</td>\n      <td>False</td>\n      <td>False</td>\n      <td>True</td>\n      <td>False</td>\n      <td>True</td>\n      <td>False</td>\n      <td>True</td>\n    </tr>\n    <tr>\n      <th>7</th>\n      <td>False</td>\n      <td>False</td>\n      <td>False</td>\n      <td>False</td>\n      <td>False</td>\n      <td>False</td>\n      <td>False</td>\n      <td>False</td>\n      <td>False</td>\n      <td>True</td>\n    </tr>\n    <tr>\n      <th>8</th>\n      <td>False</td>\n      <td>True</td>\n      <td>False</td>\n      <td>False</td>\n      <td>False</td>\n      <td>False</td>\n      <td>False</td>\n      <td>False</td>\n      <td>True</td>\n      <td>True</td>\n    </tr>\n    <tr>\n      <th>9</th>\n      <td>True</td>\n      <td>True</td>\n      <td>True</td>\n      <td>True</td>\n      <td>False</td>\n      <td>False</td>\n      <td>True</td>\n      <td>True</td>\n      <td>False</td>\n      <td>False</td>\n    </tr>\n  </tbody>\n</table>\n</div>"
     },
     "execution_count": 6,
     "metadata": {},
     "output_type": "execute_result"
    }
   ],
   "source": [
    "df.isna()"
   ]
  },
  {
   "cell_type": "markdown",
   "metadata": {},
   "source": [
    "As it can be seen above when we use the `isna()` method it returns a DataFrame with boolean values, where `True` indicates NaN values and `False` otherwise."
   ]
  },
  {
   "cell_type": "markdown",
   "metadata": {},
   "source": [
    "If we wanted to know how many missing values there are on each row or column we could use the `DataFrame#sum()` method:"
   ]
  },
  {
   "cell_type": "code",
   "execution_count": 7,
   "metadata": {
    "ExecuteTime": {
     "end_time": "2018-07-10T09:46:55.185760Z",
     "start_time": "2018-07-10T09:46:55.067021Z"
    }
   },
   "outputs": [
    {
     "data": {
      "text/plain": "0    1\n1    3\n2    4\n3    2\n4    1\n5    3\n6    2\n7    5\n8    1\n9    3\ndtype: int64"
     },
     "execution_count": 7,
     "metadata": {},
     "output_type": "execute_result"
    }
   ],
   "source": [
    "df.isna().sum(axis='rows')  # 'rows' or 0"
   ]
  },
  {
   "cell_type": "code",
   "execution_count": 8,
   "metadata": {
    "ExecuteTime": {
     "end_time": "2018-07-10T09:46:55.288862Z",
     "start_time": "2018-07-10T09:46:55.187682Z"
    }
   },
   "outputs": [
    {
     "data": {
      "text/plain": "0    1\n1    3\n2    2\n3    3\n4    0\n5    2\n6    4\n7    1\n8    3\n9    6\ndtype: int64"
     },
     "execution_count": 8,
     "metadata": {},
     "output_type": "execute_result"
    }
   ],
   "source": [
    "df.isna().sum(axis='columns')  # 'columns' or 1"
   ]
  },
  {
   "cell_type": "markdown",
   "metadata": {},
   "source": [
    "To simply know the total number of missing values we can call `sum()` again:"
   ]
  },
  {
   "cell_type": "code",
   "execution_count": 9,
   "metadata": {
    "ExecuteTime": {
     "end_time": "2018-07-10T09:46:55.400051Z",
     "start_time": "2018-07-10T09:46:55.290994Z"
    }
   },
   "outputs": [
    {
     "data": {
      "text/plain": "25"
     },
     "execution_count": 9,
     "metadata": {},
     "output_type": "execute_result"
    }
   ],
   "source": [
    "df.isna().sum().sum()"
   ]
  },
  {
   "cell_type": "markdown",
   "metadata": {},
   "source": [
    "If we simply wanna know if there is any missing value with no care for the quantity we can simply use the `any()` method:"
   ]
  },
  {
   "cell_type": "code",
   "execution_count": 10,
   "metadata": {
    "ExecuteTime": {
     "end_time": "2018-07-10T09:46:55.516972Z",
     "start_time": "2018-07-10T09:46:55.402633Z"
    }
   },
   "outputs": [
    {
     "data": {
      "text/plain": "0    True\n1    True\n2    True\n3    True\n4    True\n5    True\n6    True\n7    True\n8    True\n9    True\ndtype: bool"
     },
     "execution_count": 10,
     "metadata": {},
     "output_type": "execute_result"
    }
   ],
   "source": [
    "df.isna().any()  # can also receive axis='rows' or 'columns'"
   ]
  },
  {
   "cell_type": "markdown",
   "metadata": {},
   "source": [
    "Calling it again we have a single boolean output:"
   ]
  },
  {
   "cell_type": "code",
   "execution_count": 11,
   "metadata": {
    "ExecuteTime": {
     "end_time": "2018-07-10T09:46:55.634347Z",
     "start_time": "2018-07-10T09:46:55.518727Z"
    }
   },
   "outputs": [
    {
     "data": {
      "text/plain": "True"
     },
     "execution_count": 11,
     "metadata": {},
     "output_type": "execute_result"
    }
   ],
   "source": [
    "df.isna().any().any()"
   ]
  },
  {
   "cell_type": "markdown",
   "metadata": {},
   "source": [
    "Besides the `isna()` method we also have the `notna()` method which is its boolean inverse. Applying it we can get the number of values that are not missing or simply if all values are not missing (but using the `all()` method instead of `any()`)."
   ]
  },
  {
   "cell_type": "code",
   "execution_count": 12,
   "metadata": {
    "ExecuteTime": {
     "end_time": "2018-07-10T09:46:55.755759Z",
     "start_time": "2018-07-10T09:46:55.636133Z"
    }
   },
   "outputs": [
    {
     "name": "stdout",
     "output_type": "stream",
     "text": [
      "75\n",
      "False\n"
     ]
    }
   ],
   "source": [
    "print(df.notna().sum().sum())  # not missing\n",
    "print(df.notna().all().all())"
   ]
  },
  {
   "cell_type": "markdown",
   "metadata": {},
   "source": [
    "Note 1: in the examples, it was used the DataFrame methods to check for missing values, but the pandas package has its own functions with the same purpose that can be applied to other objects. Example:"
   ]
  },
  {
   "cell_type": "code",
   "execution_count": 13,
   "metadata": {
    "ExecuteTime": {
     "end_time": "2018-07-10T09:46:55.875265Z",
     "start_time": "2018-07-10T09:46:55.757785Z"
    }
   },
   "outputs": [
    {
     "name": "stdout",
     "output_type": "stream",
     "text": [
      "[False False  True]\n",
      "[ True  True False]\n"
     ]
    }
   ],
   "source": [
    "print(pd.isna([1, 2, np.nan]))\n",
    "print(pd.notna([1, 2, np.nan]))"
   ]
  },
  {
   "cell_type": "markdown",
   "metadata": {},
   "source": [
    "Note 2: the methods applied here on DataFrame objects are also available for Series and Index objects."
   ]
  },
  {
   "cell_type": "markdown",
   "metadata": {},
   "source": [
    "### Time comparison"
   ]
  },
  {
   "cell_type": "markdown",
   "metadata": {},
   "source": [
    "Comparing the time taken by the two methods we can see that using `any()` is faster but `sum()` will give us the additional information about how many missing values there are."
   ]
  },
  {
   "cell_type": "code",
   "execution_count": 14,
   "metadata": {
    "ExecuteTime": {
     "end_time": "2018-07-10T09:46:58.700850Z",
     "start_time": "2018-07-10T09:46:55.876821Z"
    }
   },
   "outputs": [
    {
     "name": "stdout",
     "output_type": "stream",
     "text": [
      "260 µs ± 7.48 µs per loop (mean ± std. dev. of 7 runs, 1,000 loops each)\n"
     ]
    }
   ],
   "source": [
    "%timeit df.isna().any().any()"
   ]
  },
  {
   "cell_type": "code",
   "execution_count": 15,
   "metadata": {
    "ExecuteTime": {
     "end_time": "2018-07-10T09:47:03.356772Z",
     "start_time": "2018-07-10T09:46:58.702580Z"
    }
   },
   "outputs": [
    {
     "name": "stdout",
     "output_type": "stream",
     "text": [
      "251 µs ± 10.8 µs per loop (mean ± std. dev. of 7 runs, 1,000 loops each)\n"
     ]
    }
   ],
   "source": [
    "%timeit df.isna().sum().sum()"
   ]
  },
  {
   "cell_type": "markdown",
   "metadata": {},
   "source": [
    "### Dealing with missing values"
   ]
  },
  {
   "cell_type": "markdown",
   "metadata": {},
   "source": [
    "Two easy ways to deal with missing values are removing them or filling them with some value. These can be achieved with the `dropna()` and `fillna()` methods."
   ]
  },
  {
   "cell_type": "markdown",
   "metadata": {},
   "source": [
    "The `dropna()` method will return a DataFrame without the rows and columns containing missing values."
   ]
  },
  {
   "cell_type": "code",
   "execution_count": 16,
   "metadata": {
    "ExecuteTime": {
     "end_time": "2018-07-10T09:47:03.392158Z",
     "start_time": "2018-07-10T09:47:03.359645Z"
    }
   },
   "outputs": [
    {
     "data": {
      "text/plain": "          0         1         2         3         4         5         6  \\\n4 -1.243214 -0.898169  0.028247  0.153041  0.565057 -0.781159  0.745045   \n\n          7         8         9  \n4  1.140253 -0.045182 -0.839084  ",
      "text/html": "<div>\n<style scoped>\n    .dataframe tbody tr th:only-of-type {\n        vertical-align: middle;\n    }\n\n    .dataframe tbody tr th {\n        vertical-align: top;\n    }\n\n    .dataframe thead th {\n        text-align: right;\n    }\n</style>\n<table border=\"1\" class=\"dataframe\">\n  <thead>\n    <tr style=\"text-align: right;\">\n      <th></th>\n      <th>0</th>\n      <th>1</th>\n      <th>2</th>\n      <th>3</th>\n      <th>4</th>\n      <th>5</th>\n      <th>6</th>\n      <th>7</th>\n      <th>8</th>\n      <th>9</th>\n    </tr>\n  </thead>\n  <tbody>\n    <tr>\n      <th>4</th>\n      <td>-1.243214</td>\n      <td>-0.898169</td>\n      <td>0.028247</td>\n      <td>0.153041</td>\n      <td>0.565057</td>\n      <td>-0.781159</td>\n      <td>0.745045</td>\n      <td>1.140253</td>\n      <td>-0.045182</td>\n      <td>-0.839084</td>\n    </tr>\n  </tbody>\n</table>\n</div>"
     },
     "execution_count": 16,
     "metadata": {},
     "output_type": "execute_result"
    }
   ],
   "source": [
    "df.dropna()"
   ]
  },
  {
   "cell_type": "markdown",
   "metadata": {},
   "source": [
    "The `fillna()` method will return a DataFrame with the missing values filled with a specified value."
   ]
  },
  {
   "cell_type": "code",
   "execution_count": 17,
   "metadata": {
    "ExecuteTime": {
     "end_time": "2018-07-10T09:47:03.504912Z",
     "start_time": "2018-07-10T09:47:03.395757Z"
    }
   },
   "outputs": [
    {
     "data": {
      "text/plain": "          0         1         2         3         4         5         6  \\\n0 -1.561323 -0.169541 -0.178454 -1.336891 -0.191851 -1.186178  5.000000   \n1  0.853305  0.685175  5.000000  0.849180  5.000000 -0.351612  0.735192   \n2 -0.816143  0.159069  0.499401  5.000000 -1.078377 -0.760533  0.736221   \n3 -1.963400  0.075933  5.000000 -1.203990  0.883337  5.000000  0.263247   \n4 -1.243214 -0.898169  0.028247  0.153041  0.565057 -0.781159  0.745045   \n5  1.009670  0.842401  5.000000 -0.401205  0.006641  5.000000  0.647383   \n6  0.965163  5.000000 -0.821551  0.889003  2.169438  5.000000  2.401562   \n7 -0.864927  0.824432 -0.482469 -1.051831 -1.152725 -0.771707  0.071772   \n8 -0.072640  5.000000  1.309103 -0.528468  0.060192 -0.610007  0.407824   \n9  5.000000  5.000000  5.000000  5.000000  1.275795 -2.463060  5.000000   \n\n          7         8         9  \n0 -0.612096  0.311709  1.412755  \n1  5.000000  0.532312  0.781031  \n2  5.000000 -0.691940  1.025504  \n3  5.000000 -0.315838 -0.160657  \n4  1.140253 -0.045182 -0.839084  \n5  1.660968 -0.925567  0.475758  \n6  5.000000 -0.244378  5.000000  \n7  1.028202 -2.089471  5.000000  \n8 -0.361243  5.000000  5.000000  \n9  5.000000  0.786528  1.276902  ",
      "text/html": "<div>\n<style scoped>\n    .dataframe tbody tr th:only-of-type {\n        vertical-align: middle;\n    }\n\n    .dataframe tbody tr th {\n        vertical-align: top;\n    }\n\n    .dataframe thead th {\n        text-align: right;\n    }\n</style>\n<table border=\"1\" class=\"dataframe\">\n  <thead>\n    <tr style=\"text-align: right;\">\n      <th></th>\n      <th>0</th>\n      <th>1</th>\n      <th>2</th>\n      <th>3</th>\n      <th>4</th>\n      <th>5</th>\n      <th>6</th>\n      <th>7</th>\n      <th>8</th>\n      <th>9</th>\n    </tr>\n  </thead>\n  <tbody>\n    <tr>\n      <th>0</th>\n      <td>-1.561323</td>\n      <td>-0.169541</td>\n      <td>-0.178454</td>\n      <td>-1.336891</td>\n      <td>-0.191851</td>\n      <td>-1.186178</td>\n      <td>5.000000</td>\n      <td>-0.612096</td>\n      <td>0.311709</td>\n      <td>1.412755</td>\n    </tr>\n    <tr>\n      <th>1</th>\n      <td>0.853305</td>\n      <td>0.685175</td>\n      <td>5.000000</td>\n      <td>0.849180</td>\n      <td>5.000000</td>\n      <td>-0.351612</td>\n      <td>0.735192</td>\n      <td>5.000000</td>\n      <td>0.532312</td>\n      <td>0.781031</td>\n    </tr>\n    <tr>\n      <th>2</th>\n      <td>-0.816143</td>\n      <td>0.159069</td>\n      <td>0.499401</td>\n      <td>5.000000</td>\n      <td>-1.078377</td>\n      <td>-0.760533</td>\n      <td>0.736221</td>\n      <td>5.000000</td>\n      <td>-0.691940</td>\n      <td>1.025504</td>\n    </tr>\n    <tr>\n      <th>3</th>\n      <td>-1.963400</td>\n      <td>0.075933</td>\n      <td>5.000000</td>\n      <td>-1.203990</td>\n      <td>0.883337</td>\n      <td>5.000000</td>\n      <td>0.263247</td>\n      <td>5.000000</td>\n      <td>-0.315838</td>\n      <td>-0.160657</td>\n    </tr>\n    <tr>\n      <th>4</th>\n      <td>-1.243214</td>\n      <td>-0.898169</td>\n      <td>0.028247</td>\n      <td>0.153041</td>\n      <td>0.565057</td>\n      <td>-0.781159</td>\n      <td>0.745045</td>\n      <td>1.140253</td>\n      <td>-0.045182</td>\n      <td>-0.839084</td>\n    </tr>\n    <tr>\n      <th>5</th>\n      <td>1.009670</td>\n      <td>0.842401</td>\n      <td>5.000000</td>\n      <td>-0.401205</td>\n      <td>0.006641</td>\n      <td>5.000000</td>\n      <td>0.647383</td>\n      <td>1.660968</td>\n      <td>-0.925567</td>\n      <td>0.475758</td>\n    </tr>\n    <tr>\n      <th>6</th>\n      <td>0.965163</td>\n      <td>5.000000</td>\n      <td>-0.821551</td>\n      <td>0.889003</td>\n      <td>2.169438</td>\n      <td>5.000000</td>\n      <td>2.401562</td>\n      <td>5.000000</td>\n      <td>-0.244378</td>\n      <td>5.000000</td>\n    </tr>\n    <tr>\n      <th>7</th>\n      <td>-0.864927</td>\n      <td>0.824432</td>\n      <td>-0.482469</td>\n      <td>-1.051831</td>\n      <td>-1.152725</td>\n      <td>-0.771707</td>\n      <td>0.071772</td>\n      <td>1.028202</td>\n      <td>-2.089471</td>\n      <td>5.000000</td>\n    </tr>\n    <tr>\n      <th>8</th>\n      <td>-0.072640</td>\n      <td>5.000000</td>\n      <td>1.309103</td>\n      <td>-0.528468</td>\n      <td>0.060192</td>\n      <td>-0.610007</td>\n      <td>0.407824</td>\n      <td>-0.361243</td>\n      <td>5.000000</td>\n      <td>5.000000</td>\n    </tr>\n    <tr>\n      <th>9</th>\n      <td>5.000000</td>\n      <td>5.000000</td>\n      <td>5.000000</td>\n      <td>5.000000</td>\n      <td>1.275795</td>\n      <td>-2.463060</td>\n      <td>5.000000</td>\n      <td>5.000000</td>\n      <td>0.786528</td>\n      <td>1.276902</td>\n    </tr>\n  </tbody>\n</table>\n</div>"
     },
     "execution_count": 17,
     "metadata": {},
     "output_type": "execute_result"
    }
   ],
   "source": [
    "df.fillna(value=5)"
   ]
  },
  {
   "cell_type": "markdown",
   "metadata": {},
   "source": [
    "### References:\n",
    "\n",
    "- [Create sample numpy array with randomly placed NaNs (StackOverflow)](https://stackoverflow.com/questions/32182409/create-sample-numpy-array-with-randomly-placed-nans)\n",
    "- [How to check if any value is NaN in a Pandas DataFrame (StackOverflow)](https://stackoverflow.com/questions/29530232/how-to-check-if-any-value-is-nan-in-a-pandas-dataframe)\n",
    "- [pandas.isnull](https://pandas.pydata.org/pandas-docs/stable/generated/pandas.isnull.html)\n",
    "- [pandas.isna](https://pandas.pydata.org/pandas-docs/stable/generated/pandas.isna.html)\n",
    "- [pandas.notna](https://pandas.pydata.org/pandas-docs/stable/generated/pandas.notna.html)\n",
    "- [pandas.DataFrame.dropna](https://pandas.pydata.org/pandas-docs/stable/generated/pandas.DataFrame.dropna.html)\n",
    "- [pandas.DataFrame.fillna](https://pandas.pydata.org/pandas-docs/stable/generated/pandas.DataFrame.fillna.html)"
   ]
  }
 ],
 "metadata": {
  "hide_input": false,
  "kernelspec": {
   "display_name": "Python 3",
   "language": "python",
   "name": "python3"
  },
  "language_info": {
   "codemirror_mode": {
    "name": "ipython",
    "version": 3
   },
   "file_extension": ".py",
   "mimetype": "text/x-python",
   "name": "python",
   "nbconvert_exporter": "python",
   "pygments_lexer": "ipython3",
   "version": "3.6.4"
  },
  "varInspector": {
   "cols": {
    "lenName": 16,
    "lenType": 16,
    "lenVar": 40
   },
   "kernels_config": {
    "python": {
     "delete_cmd_postfix": "",
     "delete_cmd_prefix": "del ",
     "library": "var_list.py",
     "varRefreshCmd": "print(var_dic_list())"
    },
    "r": {
     "delete_cmd_postfix": ") ",
     "delete_cmd_prefix": "rm(",
     "library": "var_list.r",
     "varRefreshCmd": "cat(var_dic_list()) "
    }
   },
   "types_to_exclude": [
    "module",
    "function",
    "builtin_function_or_method",
    "instance",
    "_Feature"
   ],
   "window_display": false
  }
 },
 "nbformat": 4,
 "nbformat_minor": 2
}
